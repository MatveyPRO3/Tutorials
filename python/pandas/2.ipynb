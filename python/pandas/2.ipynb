{
 "cells": [
  {
   "cell_type": "code",
   "execution_count": 17,
   "metadata": {},
   "outputs": [],
   "source": [
    "import pandas as pd\n",
    "\n",
    "f_path = \"list.xlsx\"\n",
    "\n",
    "df = pd.read_excel(f_path,1)\n",
    "def find_average(l):\n",
    "    return sum(l)/len(l)"
   ]
  },
  {
   "cell_type": "code",
   "execution_count": 4,
   "metadata": {},
   "outputs": [
    {
     "name": "stdout",
     "output_type": "stream",
     "text": [
      "low 750949.2684085511\n",
      "high 1253822.7784810127\n"
     ]
    }
   ],
   "source": []
  },
  {
   "cell_type": "code",
   "execution_count": 38,
   "metadata": {},
   "outputs": [
    {
     "data": {
      "text/plain": [
       "'Chicken Bowl'"
      ]
     },
     "execution_count": 38,
     "metadata": {},
     "output_type": "execute_result"
    }
   ],
   "source": [
    "l = []\n",
    "expensive = \"\"\n",
    "income = 0\n",
    "\n",
    "for i in set(df[\"item_name\"]):\n",
    "    df_sorted = df[(df[\"item_name\"] == i)]\n",
    "    all_prices = list(map(lambda x: float(x[1:]),list(df_sorted[\"item_price\"])))\n",
    "    if sum(all_prices) > income:\n",
    "        income = sum(all_prices)\n",
    "        expensive = i\n",
    "expensive"
   ]
  },
  {
   "cell_type": "code",
   "execution_count": 32,
   "metadata": {},
   "outputs": [
    {
     "data": {
      "text/plain": [
       "1365"
      ]
     },
     "execution_count": 32,
     "metadata": {},
     "output_type": "execute_result"
    }
   ],
   "source": [
    "# len(set( [ i[\"item_name\"]+i[\"choice_description\"] for i in df.iterrows()] ))\n",
    "l = []\n",
    "for name,choice in zip(list(df[\"item_name\"]),list(df[\"choice_description\"])):\n",
    "    # print(name,str(choice))\n",
    "    l.append(name+str(choice))\n",
    "    \n",
    "len(set(l))"
   ]
  },
  {
   "cell_type": "code",
   "execution_count": null,
   "metadata": {},
   "outputs": [],
   "source": []
  }
 ],
 "metadata": {
  "kernelspec": {
   "display_name": "Python 3.10.2 64-bit",
   "language": "python",
   "name": "python3"
  },
  "language_info": {
   "codemirror_mode": {
    "name": "ipython",
    "version": 3
   },
   "file_extension": ".py",
   "mimetype": "text/x-python",
   "name": "python",
   "nbconvert_exporter": "python",
   "pygments_lexer": "ipython3",
   "version": "3.10.2"
  },
  "orig_nbformat": 4,
  "vscode": {
   "interpreter": {
    "hash": "42b50a1a1b5e0a495ac6d0383e184e0171ebe7baaf546f3025075eec5be57675"
   }
  }
 },
 "nbformat": 4,
 "nbformat_minor": 2
}
